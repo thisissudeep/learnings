{
 "cells": [
  {
   "cell_type": "markdown",
   "metadata": {},
   "source": [
    "## Contiguous"
   ]
  },
  {
   "cell_type": "code",
   "execution_count": null,
   "metadata": {
    "vscode": {
     "languageId": "java"
    }
   },
   "outputs": [],
   "source": [
    "     int totalMembers = sc.nextInt();\n",
    "     List<Integer> members = new ArrayList<>();\n",
    "     for (int i = 0; i < totalMembers; i++) {\n",
    "         members.add(sc.nextInt());\n",
    "     }\n",
    "\n",
    "     List<List<Integer>> graph = new ArrayList<>(totalMembers);\n",
    "     for (int i = 0; i <= totalMembers; i++) {\n",
    "         graph.add(new ArrayList<>());     \n",
    "     }\n",
    "\n",
    "     int totalEdges = sc.nextInt();\n",
    "\n",
    "     for (int i = 0; i < totalEdges; i++) {\n",
    "         int follower = sc.nextInt();\n",
    "         int following = sc.nextInt();\n",
    "         graph.get(follower).add(following);\n",
    "         graph.get(following).add(follower); //if we need to build undirected graph\n",
    "     }\n",
    "\n",
    "     int source = sc.nextInt();\n",
    "     int destination = sc.nextInt();"
   ]
  },
  {
   "cell_type": "markdown",
   "metadata": {},
   "source": [
    "## Orbitrary"
   ]
  },
  {
   "cell_type": "code",
   "execution_count": null,
   "metadata": {
    "vscode": {
     "languageId": "java"
    }
   },
   "outputs": [],
   "source": [
    "        int totalMembers = sc.nextInt();\n",
    "        int[] members = new int[totalMembers];\n",
    "        for (int i = 0; i < totalMembers; i++) {\n",
    "            members[i] = sc.nextInt();\n",
    "        }\n",
    "\n",
    "        int totalEdges = sc.nextInt();\n",
    "\n",
    "        Map<Integer, List<Integer>> graph = new HashMap<>();\n",
    "        for (int member : members) {\n",
    "            graph.put(member, new ArrayList<>());\n",
    "        }\n",
    "\n",
    "        for (int i = 0; i < totalEdges; i++) {\n",
    "            int follower = sc.nextInt();\n",
    "            int following = sc.nextInt();\n",
    "            graph.get(follower).add(following);\n",
    "            graph.get(following).add(follower); // for undirected\n",
    "        }\n",
    "\n",
    "        int source = sc.nextInt();\n",
    "        int destination = sc.nextInt();"
   ]
  },
  {
   "cell_type": "markdown",
   "metadata": {},
   "source": [
    "Sample Input & Output"
   ]
  },
  {
   "cell_type": "code",
   "execution_count": null,
   "metadata": {
    "vscode": {
     "languageId": "plaintext"
    }
   },
   "outputs": [],
   "source": [
    "    Sample Input:    //Contiguous \n",
    "     5\n",
    "     0\n",
    "     1\n",
    "     2\n",
    "     3\n",
    "     4\n",
    "     6\n",
    "     0 1 //0 has 2 edges\n",
    "     0 2\n",
    "     1 3\n",
    "     2 4\n",
    "     3 4\n",
    "     4 0\n",
    "     2 4\n",
    "\n",
    "     Sample Output:\n",
    "     1\n",
    "\n",
    "\n",
    "\n",
    "     Sample Input :  //Orbitary\n",
    "     4               //Input here is given as \"Vertix Edge\" ,without any reciprocals\n",
    "     2               //that is each vertix has single direction edge ,which is directly suitable for directed graph\n",
    "     5               //but if we need undirected ,we need to add edges in bidirections for undirected.\n",
    "     7\n",
    "     9\n",
    "     4\n",
    "     2 9             //5 has no neighbours,7 has 2 neighbours and others has 1\n",
    "     7 2\n",
    "     7 9\n",
    "     9 5\n",
    "     7\n",
    "     9\n",
    "\n",
    "     Sample Output: \n",
    "     1\n",
    "\n",
    "\n",
    "\n",
    "     if edges are given as 2d array in parameter\n",
    "     int[][] edges = {\n",
    "         {2, 9},\n",
    "         {7, 2},\n",
    "         {7, 9},\n",
    "         {9, 5}\n",
    "     };\n",
    "\n",
    "     for (int[] edge : edges) {\n",
    "         int from = edge[0];\n",
    "         int to = edge[1];\n",
    "         graph.get(from).add(to);\n",
    "     }\n",
    "\n",
    "\n",
    "\n",
    "4       //if vertices are not given before\n",
    "3 4\n",
    "3 5\n",
    "6 7\n",
    "7 9\n",
    "3\n",
    "9\n",
    "    int totEdges=sc.nextInt();\n",
    "    Map<Integer,List<Integer>> graph=new HashMap<>();\n",
    "    {\n",
    "        int vertix=sc.nextInt();\n",
    "        int edge=sc.nextInt();\n",
    "        graph.putIfAbsent(vertix,new ArrayList<>());\n",
    "        graph.putIfAbsent(edge,new ArrayList<>());\n",
    "        graph.get(vertix).add(edge);\n",
    "        graph.get(edge).add(vertix);\n",
    "    }\n",
    "    //System.out.println(graph);\n",
    "    int source=sc.nextInt(),destination=sc.nextInt();"
   ]
  }
 ],
 "metadata": {
  "language_info": {
   "name": "python"
  }
 },
 "nbformat": 4,
 "nbformat_minor": 2
}
